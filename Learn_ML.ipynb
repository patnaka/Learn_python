{
  "nbformat": 4,
  "nbformat_minor": 0,
  "metadata": {
    "colab": {
      "provenance": [],
      "authorship_tag": "ABX9TyNtiCHxShNfbhgaV9i/7wK8",
      "include_colab_link": true
    },
    "kernelspec": {
      "name": "python3",
      "display_name": "Python 3"
    },
    "language_info": {
      "name": "python"
    }
  },
  "cells": [
    {
      "cell_type": "markdown",
      "metadata": {
        "id": "view-in-github",
        "colab_type": "text"
      },
      "source": [
        "<a href=\"https://colab.research.google.com/github/patnaka/Learn_python/blob/main/Learn_ML.ipynb\" target=\"_parent\"><img src=\"https://colab.research.google.com/assets/colab-badge.svg\" alt=\"Open In Colab\"/></a>"
      ]
    },
    {
      "cell_type": "code",
      "execution_count": null,
      "metadata": {
        "id": "ECc9G8CtHoai"
      },
      "outputs": [],
      "source": [
        "#Machin Learning - ระบวนการที่ให้คอมพิวเตอร์เรียนรู้จากข้อมูล โดยไม่ต้องถูกโปรแกรม เป็น fix rule\n",
        "#Supervised learning, un-supervised learning, reinforcement learning"
      ]
    },
    {
      "cell_type": "code",
      "source": [
        "#Example 1\n",
        "\n",
        "#pandas(data) and numpy(array)\n",
        "import pandas as pd\n",
        "\n",
        "#create dataframe\n",
        "data = {\n",
        "    'Name': ['A', 'B', 'C'],\n",
        "    'Age': [25, 30, 35],\n",
        "    'Salary': [50000, 60000, 70000]\n",
        "}\n",
        "\n",
        "df = pd.DataFrame(data)\n",
        "\n",
        "print(df.head(1))"
      ],
      "metadata": {
        "colab": {
          "base_uri": "https://localhost:8080/"
        },
        "id": "g0Wt57AnLiN2",
        "outputId": "334f8fbf-6201-42b4-9932-758df4184866"
      },
      "execution_count": null,
      "outputs": [
        {
          "output_type": "stream",
          "name": "stdout",
          "text": [
            "  Name  Age  Salary\n",
            "0    A   25   50000\n"
          ]
        }
      ]
    },
    {
      "cell_type": "code",
      "source": [
        "#Machine learning part\n",
        "#import library\n",
        "from sklearn.model_selection import train_test_split\n",
        "from sklearn.linear_model import LinearRegression\n",
        "from sklearn.metrics import mean_squared_error\n",
        "import numpy as np"
      ],
      "metadata": {
        "id": "-dSe0fyYNNCA"
      },
      "execution_count": null,
      "outputs": []
    },
    {
      "cell_type": "code",
      "source": [
        "#sample data\n",
        "x = np.array([[1], [2], [3], [4], [5]])\n",
        "y = np.array([[1.5], [3.0], [4.5], [6.0], [7.5]])"
      ],
      "metadata": {
        "id": "jMZei1CWPt-o"
      },
      "execution_count": null,
      "outputs": []
    },
    {
      "cell_type": "code",
      "source": [
        "#spit the data to be train and test data\n",
        "x_train, x_test, y_train, y_test = train_test_split(x, y, test_size=0.2, random_state=42)\n",
        "\n",
        "#create Linear regression\n",
        "model = LinearRegression()\n",
        "model.fit(x_train, y_train)\n",
        "\n",
        "#prediction\n",
        "y_pred = model.predict(x_test)\n",
        "\n",
        "#measurement\n",
        "mse = mean_squared_error(y_test, y_pred)\n",
        "print(f\"MSE = {mse:.2f}\")\n",
        "\n",
        "#plot graph\n",
        "import matplotlib.pyplot as plt\n",
        "\n",
        "#show data as visualiztion\n",
        "plt.scatter(x, y, color = 'red', label = 'Data')\n",
        "plt.legend() #add tag\n",
        "plt.show"
      ],
      "metadata": {
        "id": "q5PjMLhEj9p0",
        "colab": {
          "base_uri": "https://localhost:8080/",
          "height": 617
        },
        "outputId": "8fe8d965-01eb-438e-8cf7-91795775246e"
      },
      "execution_count": null,
      "outputs": [
        {
          "output_type": "stream",
          "name": "stdout",
          "text": [
            "MSE = 0.00\n"
          ]
        },
        {
          "output_type": "execute_result",
          "data": {
            "text/plain": [
              "<function matplotlib.pyplot.show(close=None, block=None)>"
            ],
            "text/html": [
              "<div style=\"max-width:800px; border: 1px solid var(--colab-border-color);\"><style>\n",
              "      pre.function-repr-contents {\n",
              "        overflow-x: auto;\n",
              "        padding: 8px 12px;\n",
              "        max-height: 500px;\n",
              "      }\n",
              "\n",
              "      pre.function-repr-contents.function-repr-contents-collapsed {\n",
              "        cursor: pointer;\n",
              "        max-height: 100px;\n",
              "      }\n",
              "    </style>\n",
              "    <pre style=\"white-space: initial; background:\n",
              "         var(--colab-secondary-surface-color); padding: 8px 12px;\n",
              "         border-bottom: 1px solid var(--colab-border-color);\"><b>matplotlib.pyplot.show</b><br/>def show(*args, **kwargs) -&gt; None</pre><pre class=\"function-repr-contents function-repr-contents-collapsed\" style=\"\"><a class=\"filepath\" style=\"display:none\" href=\"#\">/usr/local/lib/python3.11/dist-packages/matplotlib/pyplot.py</a>Display all open figures.\n",
              "\n",
              "Parameters\n",
              "----------\n",
              "block : bool, optional\n",
              "    Whether to wait for all figures to be closed before returning.\n",
              "\n",
              "    If `True` block and run the GUI main loop until all figure windows\n",
              "    are closed.\n",
              "\n",
              "    If `False` ensure that all figure windows are displayed and return\n",
              "    immediately.  In this case, you are responsible for ensuring\n",
              "    that the event loop is running to have responsive figures.\n",
              "\n",
              "    Defaults to True in non-interactive mode and to False in interactive\n",
              "    mode (see `.pyplot.isinteractive`).\n",
              "\n",
              "See Also\n",
              "--------\n",
              "ion : Enable interactive mode, which shows / updates the figure after\n",
              "      every plotting command, so that calling ``show()`` is not necessary.\n",
              "ioff : Disable interactive mode.\n",
              "savefig : Save the figure to an image file instead of showing it on screen.\n",
              "\n",
              "Notes\n",
              "-----\n",
              "**Saving figures to file and showing a window at the same time**\n",
              "\n",
              "If you want an image file as well as a user interface window, use\n",
              "`.pyplot.savefig` before `.pyplot.show`. At the end of (a blocking)\n",
              "``show()`` the figure is closed and thus unregistered from pyplot. Calling\n",
              "`.pyplot.savefig` afterwards would save a new and thus empty figure. This\n",
              "limitation of command order does not apply if the show is non-blocking or\n",
              "if you keep a reference to the figure and use `.Figure.savefig`.\n",
              "\n",
              "**Auto-show in jupyter notebooks**\n",
              "\n",
              "The jupyter backends (activated via ``%matplotlib inline``,\n",
              "``%matplotlib notebook``, or ``%matplotlib widget``), call ``show()`` at\n",
              "the end of every cell by default. Thus, you usually don&#x27;t have to call it\n",
              "explicitly there.</pre>\n",
              "      <script>\n",
              "      if (google.colab.kernel.accessAllowed && google.colab.files && google.colab.files.view) {\n",
              "        for (const element of document.querySelectorAll('.filepath')) {\n",
              "          element.style.display = 'block'\n",
              "          element.onclick = (event) => {\n",
              "            event.preventDefault();\n",
              "            event.stopPropagation();\n",
              "            google.colab.files.view(element.textContent, 569);\n",
              "          };\n",
              "        }\n",
              "      }\n",
              "      for (const element of document.querySelectorAll('.function-repr-contents')) {\n",
              "        element.onclick = (event) => {\n",
              "          event.preventDefault();\n",
              "          event.stopPropagation();\n",
              "          element.classList.toggle('function-repr-contents-collapsed');\n",
              "        };\n",
              "      }\n",
              "      </script>\n",
              "      </div>"
            ]
          },
          "metadata": {},
          "execution_count": 20
        },
        {
          "output_type": "display_data",
          "data": {
            "text/plain": [
              "<Figure size 640x480 with 1 Axes>"
            ],
            "image/png": "[encoded data removed]"
          },
          "metadata": {}
        }
      ]
    },
    {
      "cell_type": "code",
      "source": [
        "#Example 2: House price\n",
        "\n",
        "#import libraries\n",
        "from sklearn.model_selection import train_test_split\n",
        "from sklearn.linear_model import LinearRegression\n",
        "from sklearn.metrics import mean_squared_error\n",
        "import pandas as pd\n",
        "import numpy as np"
      ],
      "metadata": {
        "id": "2bViOUxnlAm9"
      },
      "execution_count": null,
      "outputs": []
    },
    {
      "cell_type": "code",
      "source": [
        "#sample data area(x), price(y)\n",
        "x = np.array([[50], [100], [150], [200], [250]]) #area\n",
        "y = np.array([1.5, 3.0, 4.5, 6.0, 7.5]) # price\n",
        "\n",
        "#split the data to be training data and testing data\n",
        "x_train, x_test, y_train, y_test = train_test_split(x, y, test_size=0.2, random_state=42)\n",
        "\n",
        "#create a Linear regression model\n",
        "model = LinearRegression()\n",
        "model.fit(x_train, y_train)\n",
        "\n",
        "#predict the result\n",
        "y_pred = model.predict(x_test)\n",
        "\n",
        "#measurement\n",
        "mse = mean_squared_error(y_test, y_pred)\n",
        "print(f\"MSE = {mse:.2f}\")\n",
        "\n",
        "#plot graph\n",
        "import matplotlib.pyplot as plt\n",
        "plt.scatter(x, y, color = 'blue', label = 'real data')\n",
        "plt.plot(x, model.predict(x), color = 'pink', label = 'predict line')\n",
        "plt.xlabel('area in squre meter')\n",
        "plt.ylabel('price - thb')\n",
        "plt.legend()\n",
        "plt.show()"
      ],
      "metadata": {
        "colab": {
          "base_uri": "https://localhost:8080/",
          "height": 466
        },
        "id": "DRZb22VSAi7I",
        "outputId": "573ae8a2-6a71-47c5-cd6d-9a3485289398"
      },
      "execution_count": null,
      "outputs": [
        {
          "output_type": "stream",
          "name": "stdout",
          "text": [
            "MSE = 0.00\n"
          ]
        },
        {
          "output_type": "display_data",
          "data": {
            "text/plain": [
              "<Figure size 640x480 with 1 Axes>"
            ],
            "image/png": "[encoded data removed]"
          },
          "metadata": {}
        }
      ]
    },
    {
      "cell_type": "code",
      "source": [
        "#new area for calculatuion\n",
        "new_area = np.array([[120], [180], [300]])\n",
        "#new area is 120, 180, 300 sqm\n",
        "\n",
        "#prediction for the new price of this house\n",
        "predicted_price = model.predict(new_area)\n",
        "\n",
        "#show the result\n",
        "for area, price in zip(new_area.flatten(), predicted_price):\n",
        "    print(f\"area {area} ssqm => expected price: {price:.2f} million thb\")"
      ],
      "metadata": {
        "colab": {
          "base_uri": "https://localhost:8080/"
        },
        "id": "cWVYxzGbC2Je",
        "outputId": "92955740-22cb-4051-f473-b5a347117437"
      },
      "execution_count": null,
      "outputs": [
        {
          "output_type": "stream",
          "name": "stdout",
          "text": [
            "area 120 ssqm => expected price: 3.60 million thb\n",
            "area 180 ssqm => expected price: 5.40 million thb\n",
            "area 300 ssqm => expected price: 9.00 million thb\n"
          ]
        }
      ]
    }
  ]
}